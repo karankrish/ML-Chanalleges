{
 "cells": [
  {
   "cell_type": "markdown",
   "metadata": {},
   "source": [
    "# Vehicle Prediction Test"
   ]
  },
  {
   "cell_type": "markdown",
   "metadata": {},
   "source": [
    "Submitted By Karan Krishnan\n",
    "\n",
    "Mail ID: mail2karankrishnan@gmail.com"
   ]
  },
  {
   "cell_type": "code",
   "execution_count": 1,
   "metadata": {
    "collapsed": true
   },
   "outputs": [],
   "source": [
    "import pandas as pd\n",
    "import numpy as np"
   ]
  },
  {
   "cell_type": "markdown",
   "metadata": {},
   "source": [
    "## Answer 3.1\n"
   ]
  },
  {
   "cell_type": "markdown",
   "metadata": {},
   "source": [
    "The best model for this Classification is by using KNN it simple and highly efficient for this problem"
   ]
  },
  {
   "cell_type": "code",
   "execution_count": 2,
   "metadata": {
    "collapsed": true
   },
   "outputs": [],
   "source": [
    "AmpereRating=[[0.0],[-0.05],[0.1],[0.5],[0.4],[0.0],[1.5],[1.55],[1.29],[1.62],[ -0.09],[ -0.01],[ 5.5],[5.66],[4.58],[0.3],[ 0.2]]\n",
    "vehicle =[[0],[0],[0],[1],[1],[0],[2],[2],[2],[2],[0],[0],[3],[3],[3],[0],[0]]\n"
   ]
  },
  {
   "cell_type": "markdown",
   "metadata": {},
   "source": [
    "0 - Nothing is passing\n",
    "\n",
    "1 - Motorbike\n",
    "\n",
    "2 - Bus\n",
    "\n",
    "3 - Car"
   ]
  },
  {
   "cell_type": "code",
   "execution_count": 3,
   "metadata": {
    "collapsed": true
   },
   "outputs": [],
   "source": [
    "from sklearn.neighbors import KNeighborsClassifier"
   ]
  },
  {
   "cell_type": "code",
   "execution_count": 4,
   "metadata": {},
   "outputs": [
    {
     "name": "stderr",
     "output_type": "stream",
     "text": [
      "C:\\Users\\mail2\\Anaconda3\\lib\\site-packages\\ipykernel\\__main__.py:2: DataConversionWarning: A column-vector y was passed when a 1d array was expected. Please change the shape of y to (n_samples, ), for example using ravel().\n",
      "  from ipykernel import kernelapp as app\n"
     ]
    },
    {
     "data": {
      "text/plain": [
       "KNeighborsClassifier(algorithm='auto', leaf_size=30, metric='minkowski',\n",
       "           metric_params=None, n_jobs=1, n_neighbors=3, p=2,\n",
       "           weights='uniform')"
      ]
     },
     "execution_count": 4,
     "metadata": {},
     "output_type": "execute_result"
    }
   ],
   "source": [
    "neigh = KNeighborsClassifier(n_neighbors=3)\n",
    "neigh.fit(AmpereRating, vehicle )"
   ]
  },
  {
   "cell_type": "code",
   "execution_count": 5,
   "metadata": {
    "collapsed": true
   },
   "outputs": [],
   "source": [
    "pred=neigh.predict(AmpereRating)"
   ]
  },
  {
   "cell_type": "code",
   "execution_count": 6,
   "metadata": {},
   "outputs": [
    {
     "data": {
      "text/plain": [
       "array([0, 0, 0, 1, 1, 0, 2, 2, 2, 2, 0, 0, 3, 3, 3, 0, 0])"
      ]
     },
     "execution_count": 6,
     "metadata": {},
     "output_type": "execute_result"
    }
   ],
   "source": [
    "pred"
   ]
  },
  {
   "cell_type": "markdown",
   "metadata": {},
   "source": [
    "IF we have a large data set then we need to split the data set to train and test and gives check accuracy \n",
    "\n",
    "then find a hyper-parameter for the KNeighborsClassifier \n",
    "\n",
    "so we can find the best model"
   ]
  },
  {
   "cell_type": "markdown",
   "metadata": {},
   "source": [
    "## Answer 3.2"
   ]
  },
  {
   "cell_type": "markdown",
   "metadata": {},
   "source": [
    "So in this we are going to test with a new Ampere Rating value With was not taken traing process\n",
    "these values are \n",
    "\n",
    "-2 \n",
    "\n",
    "1.6\n",
    "\n",
    "2\n",
    "\n",
    "3\n",
    "\n",
    "6"
   ]
  },
  {
   "cell_type": "code",
   "execution_count": 7,
   "metadata": {
    "collapsed": true
   },
   "outputs": [],
   "source": [
    "test=[[-2],[1.6],[2],[3],[6]]"
   ]
  },
  {
   "cell_type": "code",
   "execution_count": 8,
   "metadata": {},
   "outputs": [
    {
     "data": {
      "text/plain": [
       "array([0, 2, 2, 2, 3])"
      ]
     },
     "execution_count": 8,
     "metadata": {},
     "output_type": "execute_result"
    }
   ],
   "source": [
    "neigh.predict(test)"
   ]
  },
  {
   "cell_type": "markdown",
   "metadata": {},
   "source": [
    "## Answer 3.3"
   ]
  },
  {
   "cell_type": "markdown",
   "metadata": {},
   "source": [
    "If there are multiple metal dector covering 1 feet. Then our corpus dimenssion will increase. \n",
    "Since Motorbike is less than 1 feet it value reading will collect in one metal dector and others will become empty\n",
    "Car have values in multiple metal dector and bus would have more"
   ]
  },
  {
   "cell_type": "markdown",
   "metadata": {},
   "source": [
    "So our model will not affect these change\n",
    "\n",
    "And we get a better result than taking values from a single metal dector. Our model can esaily distinguish the vehicle "
   ]
  },
  {
   "cell_type": "markdown",
   "metadata": {},
   "source": [
    "## Answer 3.4"
   ]
  },
  {
   "cell_type": "markdown",
   "metadata": {},
   "source": [
    "We can breake these proble into two parts \n",
    "\n",
    "#### Moving 60km/h\n",
    "While a same car moving in metal dector 60km/h and 15 km/h would have a different reading, If the reading different then our model need to be trained in different speed rate of vechicle and if there is no change in value then we need not chanage anything\n",
    "\n",
    "####  1000s of vehicles moving at same time\n",
    "As if we can differentiate each vehicle and take there values,Then there is no problem. The biggest problem in this sectiom is that If we are using only one metal dector then two or more vechcile values are taken at a same time then our model will fail. So to aviod it we need to multiple metal dector for this purpose."
   ]
  },
  {
   "cell_type": "code",
   "execution_count": null,
   "metadata": {
    "collapsed": true
   },
   "outputs": [],
   "source": []
  }
 ],
 "metadata": {
  "kernelspec": {
   "display_name": "Python [conda root]",
   "language": "python",
   "name": "conda-root-py"
  },
  "language_info": {
   "codemirror_mode": {
    "name": "ipython",
    "version": 3
   },
   "file_extension": ".py",
   "mimetype": "text/x-python",
   "name": "python",
   "nbconvert_exporter": "python",
   "pygments_lexer": "ipython3",
   "version": "3.5.3"
  }
 },
 "nbformat": 4,
 "nbformat_minor": 2
}
