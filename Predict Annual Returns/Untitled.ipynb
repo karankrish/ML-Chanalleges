{
 "cells": [
  {
   "cell_type": "code",
   "execution_count": 1,
   "metadata": {
    "collapsed": false
   },
   "outputs": [],
   "source": [
    "import pandas as pd\n",
    "import numpy as np"
   ]
  },
  {
   "cell_type": "code",
   "execution_count": 2,
   "metadata": {
    "collapsed": true
   },
   "outputs": [],
   "source": [
    "train = pd.read_csv(\"train.csv\")\n",
    "test = pd.read_csv(\"test.csv\")"
   ]
  },
  {
   "cell_type": "code",
   "execution_count": 3,
   "metadata": {
    "collapsed": false
   },
   "outputs": [
    {
     "data": {
      "text/html": [
       "<div>\n",
       "<style scoped>\n",
       "    .dataframe tbody tr th:only-of-type {\n",
       "        vertical-align: middle;\n",
       "    }\n",
       "\n",
       "    .dataframe tbody tr th {\n",
       "        vertical-align: top;\n",
       "    }\n",
       "\n",
       "    .dataframe thead th {\n",
       "        text-align: right;\n",
       "    }\n",
       "</style>\n",
       "<table border=\"1\" class=\"dataframe\">\n",
       "  <thead>\n",
       "    <tr style=\"text-align: right;\">\n",
       "      <th></th>\n",
       "      <th>portfolio_id</th>\n",
       "      <th>desk_id</th>\n",
       "      <th>office_id</th>\n",
       "      <th>pf_category</th>\n",
       "      <th>start_date</th>\n",
       "      <th>sold</th>\n",
       "      <th>country_code</th>\n",
       "      <th>euribor_rate</th>\n",
       "      <th>currency</th>\n",
       "      <th>libor_rate</th>\n",
       "      <th>bought</th>\n",
       "      <th>creation_date</th>\n",
       "      <th>indicator_code</th>\n",
       "      <th>sell_date</th>\n",
       "      <th>type</th>\n",
       "      <th>hedge_value</th>\n",
       "      <th>status</th>\n",
       "      <th>return</th>\n",
       "    </tr>\n",
       "  </thead>\n",
       "  <tbody>\n",
       "    <tr>\n",
       "      <th>9361</th>\n",
       "      <td>PF00014131</td>\n",
       "      <td>NaN</td>\n",
       "      <td>OFF00001002</td>\n",
       "      <td>C</td>\n",
       "      <td>20160624</td>\n",
       "      <td>17864000.0</td>\n",
       "      <td>M</td>\n",
       "      <td>-0.00349</td>\n",
       "      <td>CHF</td>\n",
       "      <td>-0.556873</td>\n",
       "      <td>1.786333e+07</td>\n",
       "      <td>20160624</td>\n",
       "      <td>True</td>\n",
       "      <td>20160627</td>\n",
       "      <td>E</td>\n",
       "      <td>False</td>\n",
       "      <td>True</td>\n",
       "      <td>0.0054</td>\n",
       "    </tr>\n",
       "    <tr>\n",
       "      <th>9362</th>\n",
       "      <td>PF00014132</td>\n",
       "      <td>NaN</td>\n",
       "      <td>OFF00001002</td>\n",
       "      <td>C</td>\n",
       "      <td>20160624</td>\n",
       "      <td>82500000.0</td>\n",
       "      <td>M</td>\n",
       "      <td>-0.00349</td>\n",
       "      <td>CHF</td>\n",
       "      <td>-0.556873</td>\n",
       "      <td>8.249198e+07</td>\n",
       "      <td>20160624</td>\n",
       "      <td>True</td>\n",
       "      <td>20160701</td>\n",
       "      <td>E</td>\n",
       "      <td>False</td>\n",
       "      <td>True</td>\n",
       "      <td>0.0060</td>\n",
       "    </tr>\n",
       "    <tr>\n",
       "      <th>9363</th>\n",
       "      <td>PF00014145</td>\n",
       "      <td>NaN</td>\n",
       "      <td>OFF00001002</td>\n",
       "      <td>C</td>\n",
       "      <td>20160628</td>\n",
       "      <td>110000000.0</td>\n",
       "      <td>M</td>\n",
       "      <td>-0.00349</td>\n",
       "      <td>CHF</td>\n",
       "      <td>-0.556873</td>\n",
       "      <td>1.099893e+08</td>\n",
       "      <td>20160628</td>\n",
       "      <td>True</td>\n",
       "      <td>20160705</td>\n",
       "      <td>E</td>\n",
       "      <td>False</td>\n",
       "      <td>True</td>\n",
       "      <td>0.0060</td>\n",
       "    </tr>\n",
       "    <tr>\n",
       "      <th>9364</th>\n",
       "      <td>PF00014146</td>\n",
       "      <td>NaN</td>\n",
       "      <td>OFF00001002</td>\n",
       "      <td>C</td>\n",
       "      <td>20160628</td>\n",
       "      <td>33000000.0</td>\n",
       "      <td>M</td>\n",
       "      <td>-0.00349</td>\n",
       "      <td>CHF</td>\n",
       "      <td>-0.556873</td>\n",
       "      <td>3.299679e+07</td>\n",
       "      <td>20160628</td>\n",
       "      <td>True</td>\n",
       "      <td>20160705</td>\n",
       "      <td>E</td>\n",
       "      <td>False</td>\n",
       "      <td>True</td>\n",
       "      <td>0.0060</td>\n",
       "    </tr>\n",
       "    <tr>\n",
       "      <th>9365</th>\n",
       "      <td>PF00014148</td>\n",
       "      <td>NaN</td>\n",
       "      <td>OFF00001002</td>\n",
       "      <td>C</td>\n",
       "      <td>20160628</td>\n",
       "      <td>89562000.0</td>\n",
       "      <td>M</td>\n",
       "      <td>-0.00349</td>\n",
       "      <td>CHF</td>\n",
       "      <td>-0.556873</td>\n",
       "      <td>8.955329e+07</td>\n",
       "      <td>20160628</td>\n",
       "      <td>True</td>\n",
       "      <td>20160705</td>\n",
       "      <td>E</td>\n",
       "      <td>False</td>\n",
       "      <td>True</td>\n",
       "      <td>0.0060</td>\n",
       "    </tr>\n",
       "  </tbody>\n",
       "</table>\n",
       "</div>"
      ],
      "text/plain": [
       "     portfolio_id desk_id    office_id pf_category  start_date         sold  \\\n",
       "9361   PF00014131     NaN  OFF00001002           C    20160624   17864000.0   \n",
       "9362   PF00014132     NaN  OFF00001002           C    20160624   82500000.0   \n",
       "9363   PF00014145     NaN  OFF00001002           C    20160628  110000000.0   \n",
       "9364   PF00014146     NaN  OFF00001002           C    20160628   33000000.0   \n",
       "9365   PF00014148     NaN  OFF00001002           C    20160628   89562000.0   \n",
       "\n",
       "     country_code  euribor_rate currency  libor_rate        bought  \\\n",
       "9361            M      -0.00349      CHF   -0.556873  1.786333e+07   \n",
       "9362            M      -0.00349      CHF   -0.556873  8.249198e+07   \n",
       "9363            M      -0.00349      CHF   -0.556873  1.099893e+08   \n",
       "9364            M      -0.00349      CHF   -0.556873  3.299679e+07   \n",
       "9365            M      -0.00349      CHF   -0.556873  8.955329e+07   \n",
       "\n",
       "      creation_date indicator_code  sell_date type hedge_value status  return  \n",
       "9361       20160624           True   20160627    E       False   True  0.0054  \n",
       "9362       20160624           True   20160701    E       False   True  0.0060  \n",
       "9363       20160628           True   20160705    E       False   True  0.0060  \n",
       "9364       20160628           True   20160705    E       False   True  0.0060  \n",
       "9365       20160628           True   20160705    E       False   True  0.0060  "
      ]
     },
     "execution_count": 3,
     "metadata": {},
     "output_type": "execute_result"
    }
   ],
   "source": [
    "train.tail()"
   ]
  },
  {
   "cell_type": "code",
   "execution_count": 4,
   "metadata": {
    "collapsed": false
   },
   "outputs": [
    {
     "data": {
      "text/html": [
       "<div>\n",
       "<style scoped>\n",
       "    .dataframe tbody tr th:only-of-type {\n",
       "        vertical-align: middle;\n",
       "    }\n",
       "\n",
       "    .dataframe tbody tr th {\n",
       "        vertical-align: top;\n",
       "    }\n",
       "\n",
       "    .dataframe thead th {\n",
       "        text-align: right;\n",
       "    }\n",
       "</style>\n",
       "<table border=\"1\" class=\"dataframe\">\n",
       "  <thead>\n",
       "    <tr style=\"text-align: right;\">\n",
       "      <th></th>\n",
       "      <th>portfolio_id</th>\n",
       "      <th>desk_id</th>\n",
       "      <th>office_id</th>\n",
       "      <th>pf_category</th>\n",
       "      <th>start_date</th>\n",
       "      <th>sold</th>\n",
       "      <th>country_code</th>\n",
       "      <th>euribor_rate</th>\n",
       "      <th>currency</th>\n",
       "      <th>libor_rate</th>\n",
       "      <th>bought</th>\n",
       "      <th>creation_date</th>\n",
       "      <th>indicator_code</th>\n",
       "      <th>sell_date</th>\n",
       "      <th>type</th>\n",
       "      <th>hedge_value</th>\n",
       "      <th>status</th>\n",
       "    </tr>\n",
       "  </thead>\n",
       "  <tbody>\n",
       "    <tr>\n",
       "      <th>4796</th>\n",
       "      <td>PF00014118</td>\n",
       "      <td>NaN</td>\n",
       "      <td>OFF00001002</td>\n",
       "      <td>C</td>\n",
       "      <td>20160621</td>\n",
       "      <td>55000000.0</td>\n",
       "      <td>M</td>\n",
       "      <td>-0.00349</td>\n",
       "      <td>CHF</td>\n",
       "      <td>-0.556873</td>\n",
       "      <td>5.499519e+07</td>\n",
       "      <td>20160621</td>\n",
       "      <td>True</td>\n",
       "      <td>20160628</td>\n",
       "      <td>E</td>\n",
       "      <td>False</td>\n",
       "      <td>True</td>\n",
       "    </tr>\n",
       "    <tr>\n",
       "      <th>4797</th>\n",
       "      <td>PF00014120</td>\n",
       "      <td>NaN</td>\n",
       "      <td>OFF00001002</td>\n",
       "      <td>C</td>\n",
       "      <td>20160621</td>\n",
       "      <td>138809000.0</td>\n",
       "      <td>M</td>\n",
       "      <td>-0.00349</td>\n",
       "      <td>CHF</td>\n",
       "      <td>-0.556873</td>\n",
       "      <td>1.387969e+08</td>\n",
       "      <td>20160621</td>\n",
       "      <td>True</td>\n",
       "      <td>20160628</td>\n",
       "      <td>E</td>\n",
       "      <td>False</td>\n",
       "      <td>True</td>\n",
       "    </tr>\n",
       "    <tr>\n",
       "      <th>4798</th>\n",
       "      <td>PF00014123</td>\n",
       "      <td>NaN</td>\n",
       "      <td>OFF00001002</td>\n",
       "      <td>B</td>\n",
       "      <td>20160622</td>\n",
       "      <td>28732000.0</td>\n",
       "      <td>N</td>\n",
       "      <td>-0.00349</td>\n",
       "      <td>GBP</td>\n",
       "      <td>0.960652</td>\n",
       "      <td>2.872930e+07</td>\n",
       "      <td>20160622</td>\n",
       "      <td>True</td>\n",
       "      <td>20160629</td>\n",
       "      <td>C</td>\n",
       "      <td>False</td>\n",
       "      <td>True</td>\n",
       "    </tr>\n",
       "    <tr>\n",
       "      <th>4799</th>\n",
       "      <td>PF00014127</td>\n",
       "      <td>NaN</td>\n",
       "      <td>OFF00001002</td>\n",
       "      <td>C</td>\n",
       "      <td>20160623</td>\n",
       "      <td>34419000.0</td>\n",
       "      <td>M</td>\n",
       "      <td>-0.00349</td>\n",
       "      <td>CHF</td>\n",
       "      <td>-0.556873</td>\n",
       "      <td>3.441599e+07</td>\n",
       "      <td>20160623</td>\n",
       "      <td>True</td>\n",
       "      <td>20160630</td>\n",
       "      <td>E</td>\n",
       "      <td>False</td>\n",
       "      <td>True</td>\n",
       "    </tr>\n",
       "    <tr>\n",
       "      <th>4800</th>\n",
       "      <td>PF00014147</td>\n",
       "      <td>NaN</td>\n",
       "      <td>OFF00001002</td>\n",
       "      <td>C</td>\n",
       "      <td>20160628</td>\n",
       "      <td>53713000.0</td>\n",
       "      <td>M</td>\n",
       "      <td>-0.00349</td>\n",
       "      <td>CHF</td>\n",
       "      <td>-0.556873</td>\n",
       "      <td>5.370778e+07</td>\n",
       "      <td>20160628</td>\n",
       "      <td>True</td>\n",
       "      <td>20160705</td>\n",
       "      <td>E</td>\n",
       "      <td>False</td>\n",
       "      <td>True</td>\n",
       "    </tr>\n",
       "  </tbody>\n",
       "</table>\n",
       "</div>"
      ],
      "text/plain": [
       "     portfolio_id desk_id    office_id pf_category  start_date         sold  \\\n",
       "4796   PF00014118     NaN  OFF00001002           C    20160621   55000000.0   \n",
       "4797   PF00014120     NaN  OFF00001002           C    20160621  138809000.0   \n",
       "4798   PF00014123     NaN  OFF00001002           B    20160622   28732000.0   \n",
       "4799   PF00014127     NaN  OFF00001002           C    20160623   34419000.0   \n",
       "4800   PF00014147     NaN  OFF00001002           C    20160628   53713000.0   \n",
       "\n",
       "     country_code  euribor_rate currency  libor_rate        bought  \\\n",
       "4796            M      -0.00349      CHF   -0.556873  5.499519e+07   \n",
       "4797            M      -0.00349      CHF   -0.556873  1.387969e+08   \n",
       "4798            N      -0.00349      GBP    0.960652  2.872930e+07   \n",
       "4799            M      -0.00349      CHF   -0.556873  3.441599e+07   \n",
       "4800            M      -0.00349      CHF   -0.556873  5.370778e+07   \n",
       "\n",
       "      creation_date indicator_code  sell_date type hedge_value status  \n",
       "4796       20160621           True   20160628    E       False   True  \n",
       "4797       20160621           True   20160628    E       False   True  \n",
       "4798       20160622           True   20160629    C       False   True  \n",
       "4799       20160623           True   20160630    E       False   True  \n",
       "4800       20160628           True   20160705    E       False   True  "
      ]
     },
     "execution_count": 4,
     "metadata": {},
     "output_type": "execute_result"
    }
   ],
   "source": [
    "test.tail()"
   ]
  },
  {
   "cell_type": "code",
   "execution_count": 5,
   "metadata": {
    "collapsed": false
   },
   "outputs": [
    {
     "data": {
      "text/plain": [
       "portfolio_id      0.000000\n",
       "desk_id           0.391309\n",
       "office_id         0.000000\n",
       "pf_category       0.000000\n",
       "start_date        0.000000\n",
       "sold              0.000214\n",
       "country_code      0.000000\n",
       "euribor_rate      0.000000\n",
       "currency          0.000000\n",
       "libor_rate        0.050609\n",
       "bought            0.000214\n",
       "creation_date     0.000000\n",
       "indicator_code    0.608477\n",
       "sell_date         0.000000\n",
       "type              0.000000\n",
       "hedge_value       0.608691\n",
       "status            0.329276\n",
       "return            0.000000\n",
       "dtype: float64"
      ]
     },
     "execution_count": 5,
     "metadata": {},
     "output_type": "execute_result"
    }
   ],
   "source": [
    "# check missing values per column\n",
    "train.isnull().sum(axis=0)/train.shape[0]"
   ]
  },
  {
   "cell_type": "code",
   "execution_count": 6,
   "metadata": {
    "collapsed": false
   },
   "outputs": [],
   "source": [
    "train['libor_rate'].fillna(-999, inplace=True)\n",
    "test['libor_rate'].fillna(-999, inplace=True)\n",
    "\n",
    "train['indicator_code'].fillna(0, inplace=True)\n",
    "test['indicator_code'].fillna(0, inplace=True)\n",
    "\n",
    "train['hedge_value'].fillna(0, inplace=True)\n",
    "test['hedge_value'].fillna(0, inplace=True)"
   ]
  },
  {
   "cell_type": "code",
   "execution_count": 7,
   "metadata": {
    "collapsed": true
   },
   "outputs": [],
   "source": [
    "train['desk_id'].fillna(method='ffill',inplace=True)\n",
    "test['desk_id'].fillna(method='ffill',inplace=True)\n",
    "\n",
    "train['sold'].fillna(0,inplace=True)\n",
    "test['sold'].fillna(0, inplace=True)\n",
    "\n",
    "train['bought'].fillna(0, inplace=True)\n",
    "test['bought'].fillna(0, inplace=True)\n",
    "\n",
    "train['status'].fillna(0, inplace=True)\n",
    "test['status'].fillna(0, inplace=True)"
   ]
  },
  {
   "cell_type": "code",
   "execution_count": 8,
   "metadata": {
    "collapsed": false
   },
   "outputs": [
    {
     "data": {
      "text/plain": [
       "array(['B', 'A', 'C', 'D', 'E'], dtype=object)"
      ]
     },
     "execution_count": 8,
     "metadata": {},
     "output_type": "execute_result"
    }
   ],
   "source": [
    "train[\"pf_category\"].unique()"
   ]
  },
  {
   "cell_type": "code",
   "execution_count": 9,
   "metadata": {
    "collapsed": true
   },
   "outputs": [],
   "source": [
    "#encode as integer\n",
    "mapping = {'A':0, 'B':1, 'C':2, 'D':3, 'E':4}\n",
    "train = train.replace({'pf_category':mapping})\n",
    "test = test.replace({'pf_category':mapping})"
   ]
  },
  {
   "cell_type": "code",
   "execution_count": 10,
   "metadata": {
    "collapsed": false
   },
   "outputs": [
    {
     "data": {
      "text/plain": [
       "array(['T', 'N', 'M', 'Z', 'U'], dtype=object)"
      ]
     },
     "execution_count": 10,
     "metadata": {},
     "output_type": "execute_result"
    }
   ],
   "source": [
    "train[\"country_code\"].unique()"
   ]
  },
  {
   "cell_type": "code",
   "execution_count": 11,
   "metadata": {
    "collapsed": false
   },
   "outputs": [],
   "source": [
    "#encode as integer\n",
    "mapping = {'T':0, 'N':1, 'M':2, 'Z':3, 'U':4}\n",
    "train = train.replace({'country_code':mapping})\n",
    "test = test.replace({'country_code':mapping})"
   ]
  },
  {
   "cell_type": "code",
   "execution_count": 12,
   "metadata": {
    "collapsed": false
   },
   "outputs": [
    {
     "data": {
      "text/plain": [
       "array(['USD', 'GBP', 'CHF', 'EUR', 'JPY'], dtype=object)"
      ]
     },
     "execution_count": 12,
     "metadata": {},
     "output_type": "execute_result"
    }
   ],
   "source": [
    "train[\"currency\"].unique()"
   ]
  },
  {
   "cell_type": "code",
   "execution_count": 13,
   "metadata": {
    "collapsed": true
   },
   "outputs": [],
   "source": [
    "#encode as integer\n",
    "mapping = {'USD':0, 'GBP':1, 'CHF':2, 'EUR':3, 'JPY':4}\n",
    "train = train.replace({'currency':mapping})\n",
    "test = test.replace({'currency':mapping})"
   ]
  },
  {
   "cell_type": "code",
   "execution_count": 14,
   "metadata": {
    "collapsed": false
   },
   "outputs": [
    {
     "data": {
      "text/plain": [
       "array([0, True], dtype=object)"
      ]
     },
     "execution_count": 14,
     "metadata": {},
     "output_type": "execute_result"
    }
   ],
   "source": [
    "train[\"indicator_code\"].unique()"
   ]
  },
  {
   "cell_type": "code",
   "execution_count": 15,
   "metadata": {
    "collapsed": false
   },
   "outputs": [],
   "source": [
    "#encode as integer\n",
    "mapping = {'True':0, '0':1}\n",
    "train = train.replace({'indicator_code':mapping})\n",
    "test = test.replace({'indicator_code':mapping})"
   ]
  },
  {
   "cell_type": "code",
   "execution_count": 16,
   "metadata": {
    "collapsed": false
   },
   "outputs": [
    {
     "data": {
      "text/plain": [
       "array(['B', 'C', 'A', 'D', 'E', 'F', 'G', 'H'], dtype=object)"
      ]
     },
     "execution_count": 16,
     "metadata": {},
     "output_type": "execute_result"
    }
   ],
   "source": [
    "train[\"type\"].unique()"
   ]
  },
  {
   "cell_type": "code",
   "execution_count": 17,
   "metadata": {
    "collapsed": true
   },
   "outputs": [],
   "source": [
    "#encode as integer\n",
    "mapping = {'A':0, 'B':1, 'C':2, 'D':3, 'E':4, 'F':5, 'G':6, 'H':7}\n",
    "train = train.replace({'type':mapping})\n",
    "test = test.replace({'type':mapping})"
   ]
  },
  {
   "cell_type": "code",
   "execution_count": 18,
   "metadata": {
    "collapsed": false
   },
   "outputs": [
    {
     "data": {
      "text/plain": [
       "array([0, True], dtype=object)"
      ]
     },
     "execution_count": 18,
     "metadata": {},
     "output_type": "execute_result"
    }
   ],
   "source": [
    "train[\"hedge_value\"].unique()"
   ]
  },
  {
   "cell_type": "code",
   "execution_count": 19,
   "metadata": {
    "collapsed": true
   },
   "outputs": [],
   "source": [
    "#encode as integer\n",
    "mapping = {'True':0, '0':1}\n",
    "train = train.replace({'hedge_value':mapping})\n",
    "test = test.replace({'hedge_value':mapping})"
   ]
  },
  {
   "cell_type": "code",
   "execution_count": 20,
   "metadata": {
    "collapsed": false
   },
   "outputs": [
    {
     "data": {
      "text/plain": [
       "array([0, True], dtype=object)"
      ]
     },
     "execution_count": 20,
     "metadata": {},
     "output_type": "execute_result"
    }
   ],
   "source": [
    "train[\"status\"].unique()"
   ]
  },
  {
   "cell_type": "code",
   "execution_count": 21,
   "metadata": {
    "collapsed": true
   },
   "outputs": [],
   "source": [
    "#encode as integer\n",
    "mapping = {'True':0, '0':1}\n",
    "train = train.replace({'status':mapping})\n",
    "test = test.replace({'status':mapping})"
   ]
  },
  {
   "cell_type": "code",
   "execution_count": 22,
   "metadata": {
    "collapsed": false
   },
   "outputs": [],
   "source": [
    "train['desk_id']=train['desk_id'].str[3:]\n",
    "test['desk_id']=test['desk_id'].str[3:]"
   ]
  },
  {
   "cell_type": "code",
   "execution_count": 23,
   "metadata": {
    "collapsed": false
   },
   "outputs": [],
   "source": [
    "train['office_id']=train['office_id'].str[3:]\n",
    "test['office_id']=test['office_id'].str[3:]"
   ]
  },
  {
   "cell_type": "code",
   "execution_count": null,
   "metadata": {
    "collapsed": true
   },
   "outputs": [],
   "source": []
  },
  {
   "cell_type": "code",
   "execution_count": 24,
   "metadata": {
    "collapsed": false
   },
   "outputs": [],
   "source": [
    "y_train = train['return']\n",
    "test_id = test['portfolio_id']"
   ]
  },
  {
   "cell_type": "code",
   "execution_count": 25,
   "metadata": {
    "collapsed": true
   },
   "outputs": [],
   "source": [
    "train.drop(['return','portfolio_id'], inplace=True, axis=1)\n",
    "test.drop(['portfolio_id'],inplace=True,axis=1)"
   ]
  },
  {
   "cell_type": "code",
   "execution_count": 26,
   "metadata": {
    "collapsed": true
   },
   "outputs": [],
   "source": [
    "from tpot import TPOTRegressor"
   ]
  },
  {
   "cell_type": "code",
   "execution_count": 33,
   "metadata": {
    "collapsed": false
   },
   "outputs": [
    {
     "name": "stdout",
     "output_type": "stream",
     "text": [
      "Version 0.9.0 of tpot is outdated. Version 0.9.1 was released Friday November 10, 2017.\n",
      "Warning: xgboost.XGBRegressor is not available and will not be used by TPOT.\n"
     ]
    }
   ],
   "source": [
    "pipeline_optimizer = TPOTRegressor(generations=5, population_size=100,\n",
    "                         offspring_size=None, mutation_rate=0.9,\n",
    "                         crossover_rate=0.1,\n",
    "                         scoring='neg_mean_squared_error', cv=5,\n",
    "                         subsample=1.0, n_jobs=1,\n",
    "                         max_time_mins=None, max_eval_time_mins=5,\n",
    "                         random_state=None, config_dict=None,\n",
    "                         warm_start=False,\n",
    "                         periodic_checkpoint_folder=None,\n",
    "                         verbosity=2,\n",
    "                         disable_update_check=False)"
   ]
  },
  {
   "cell_type": "code",
   "execution_count": 34,
   "metadata": {
    "collapsed": false
   },
   "outputs": [
    {
     "name": "stderr",
     "output_type": "stream",
     "text": []
    },
    {
     "name": "stdout",
     "output_type": "stream",
     "text": [
      "Generation 1 - Current best internal CV score: 0.00020736690056159923\n"
     ]
    },
    {
     "name": "stderr",
     "output_type": "stream",
     "text": []
    },
    {
     "name": "stdout",
     "output_type": "stream",
     "text": [
      "Generation 2 - Current best internal CV score: 0.00018367567112010099\n"
     ]
    },
    {
     "name": "stderr",
     "output_type": "stream",
     "text": []
    },
    {
     "name": "stdout",
     "output_type": "stream",
     "text": [
      "Generation 3 - Current best internal CV score: 0.00012764815487413273\n"
     ]
    },
    {
     "name": "stderr",
     "output_type": "stream",
     "text": []
    },
    {
     "name": "stdout",
     "output_type": "stream",
     "text": [
      "Generation 4 - Current best internal CV score: 0.00012764815487413273\n"
     ]
    },
    {
     "name": "stderr",
     "output_type": "stream",
     "text": []
    },
    {
     "name": "stdout",
     "output_type": "stream",
     "text": [
      "Generation 5 - Current best internal CV score: 0.0001222450583287392\n"
     ]
    },
    {
     "name": "stderr",
     "output_type": "stream",
     "text": []
    },
    {
     "name": "stdout",
     "output_type": "stream",
     "text": [
      "\n",
      "Best pipeline: LassoLarsCV(PolynomialFeatures(StandardScaler(input_matrix), degree=2, include_bias=False, interaction_only=False), normalize=False)\n"
     ]
    },
    {
     "data": {
      "text/plain": [
       "TPOTRegressor(config_dict={'sklearn.preprocessing.Binarizer': {'threshold': array([ 0.  ,  0.05,  0.1 ,  0.15,  0.2 ,  0.25,  0.3 ,  0.35,  0.4 ,\n",
       "        0.45,  0.5 ,  0.55,  0.6 ,  0.65,  0.7 ,  0.75,  0.8 ,  0.85,\n",
       "        0.9 ,  0.95,  1.  ])}, 'sklearn.kernel_approximation.RBFSampler': {'gamma': array([ 0.  , ...        0.45,  0.5 ,  0.55,  0.6 ,  0.65,  0.7 ,  0.75,  0.8 ,  0.85,\n",
       "        0.9 ,  0.95,  1.  ])}},\n",
       "       crossover_rate=0.1, cv=5, disable_update_check=False,\n",
       "       early_stop=None, generations=5, max_eval_time_mins=5,\n",
       "       max_time_mins=None, mutation_rate=0.9, n_jobs=1, offspring_size=100,\n",
       "       periodic_checkpoint_folder=None, population_size=100,\n",
       "       random_state=None, scoring=None, subsample=1.0, verbosity=2,\n",
       "       warm_start=False)"
      ]
     },
     "execution_count": 34,
     "metadata": {},
     "output_type": "execute_result"
    }
   ],
   "source": [
    "pipeline_optimizer.fit(train.tail(10000), y_train.tail(10000))"
   ]
  },
  {
   "cell_type": "code",
   "execution_count": 35,
   "metadata": {
    "collapsed": true
   },
   "outputs": [],
   "source": [
    "pred=pipeline_optimizer.predict(test)"
   ]
  },
  {
   "cell_type": "code",
   "execution_count": 36,
   "metadata": {
    "collapsed": true
   },
   "outputs": [],
   "source": [
    "columns = ['return']\n",
    "sub = pd.DataFrame(data=pred, columns=columns)\n",
    "sub['portfolio_id'] = test_id\n",
    "sub = sub[['portfolio_id','return']]\n",
    "sub.to_csv(\"return.csv\", index=False)"
   ]
  },
  {
   "cell_type": "code",
   "execution_count": null,
   "metadata": {
    "collapsed": true
   },
   "outputs": [],
   "source": []
  }
 ],
 "metadata": {
  "anaconda-cloud": {},
  "kernelspec": {
   "display_name": "Python [conda root]",
   "language": "python",
   "name": "conda-root-py"
  },
  "language_info": {
   "codemirror_mode": {
    "name": "ipython",
    "version": 3
   },
   "file_extension": ".py",
   "mimetype": "text/x-python",
   "name": "python",
   "nbconvert_exporter": "python",
   "pygments_lexer": "ipython3",
   "version": "3.5.2"
  }
 },
 "nbformat": 4,
 "nbformat_minor": 1
}
